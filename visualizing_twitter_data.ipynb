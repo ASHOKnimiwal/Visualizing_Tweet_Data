{
  "nbformat": 4,
  "nbformat_minor": 0,
  "metadata": {
    "colab": {
      "name": "visualizing_twitter_data.ipynb",
      "provenance": [],
      "authorship_tag": "ABX9TyM98Gvo4gPgvd/KpbhV/rqK",
      "include_colab_link": true
    },
    "kernelspec": {
      "name": "python3",
      "display_name": "Python 3"
    }
  },
  "cells": [
    {
      "cell_type": "markdown",
      "metadata": {
        "id": "view-in-github",
        "colab_type": "text"
      },
      "source": [
        "<a href=\"https://colab.research.google.com/github/ASHOKnimiwal/Visualizing_Tweet_Data/blob/master/visualizing_twitter_data.ipynb\" target=\"_parent\"><img src=\"https://colab.research.google.com/assets/colab-badge.svg\" alt=\"Open In Colab\"/></a>"
      ]
    },
    {
      "cell_type": "markdown",
      "metadata": {
        "id": "KPQjokUpJbGX",
        "colab_type": "text"
      },
      "source": [
        "### **Note: You have to first fill the twitter_credentials file variables with your own unique TweepyAPI secret keys and tokens in order to stream the tweets**"
      ]
    },
    {
      "cell_type": "code",
      "metadata": {
        "id": "iKeFr5_CJXvh",
        "colab_type": "code",
        "colab": {
          "base_uri": "https://localhost:8080/",
          "height": 35
        },
        "outputId": "6cdb7e4d-ac84-469f-b9bb-767562bf3868"
      },
      "source": [
        "# Make Visualizing_Tweet_Data our working directory\n",
        "%cd Visualizing_Tweet_Data/"
      ],
      "execution_count": 2,
      "outputs": [
        {
          "output_type": "stream",
          "text": [
            "/content/Visualizing_Tweet_Data\n"
          ],
          "name": "stdout"
        }
      ]
    },
    {
      "cell_type": "markdown",
      "metadata": {
        "id": "zwrTQPa1KFvb",
        "colab_type": "text"
      },
      "source": [
        "**Importing required modules, files and libraries**"
      ]
    },
    {
      "cell_type": "code",
      "metadata": {
        "id": "yLZF8DU7KBRh",
        "colab_type": "code",
        "colab": {}
      },
      "source": [
        "from tweepy import API \n",
        "from tweepy import Cursor\n",
        "from tweepy.streaming import StreamListener\n",
        "from tweepy import OAuthHandler\n",
        "from tweepy import Stream\n",
        " \n",
        "import twitter_credentials\n",
        "import numpy as np\n",
        "import pandas as pd\n",
        "import matplotlib.pyplot as plt"
      ],
      "execution_count": 3,
      "outputs": []
    },
    {
      "cell_type": "markdown",
      "metadata": {
        "id": "xhagliO5KNbC",
        "colab_type": "text"
      },
      "source": [
        "**Twitter Client**"
      ]
    },
    {
      "cell_type": "code",
      "metadata": {
        "id": "Ul5zrnr_KMMa",
        "colab_type": "code",
        "colab": {}
      },
      "source": [
        "class TwitterClient():\n",
        "    def __init__(self, twitter_user=None):\n",
        "        self.auth = TwitterAuthenticator().authenticate_twitter_app()\n",
        "        self.twitter_client = API(self.auth)\n",
        "\n",
        "        self.twitter_user = twitter_user\n",
        "\n",
        "    def get_twitter_client_api(self):\n",
        "        return self.twitter_client\n",
        "\n",
        "    def get_user_timeline_tweets(self, num_tweets):\n",
        "        tweets = []\n",
        "        for tweet in Cursor(self.twitter_client.user_timeline, id=self.twitter_user).items(num_tweets):\n",
        "            tweets.append(tweet)\n",
        "        return tweets\n",
        "\n",
        "    def get_friend_list(self, num_friends):\n",
        "        friend_list = []\n",
        "        for friend in Cursor(self.twitter_client.friends, id=self.twitter_user).items(num_friends):\n",
        "            friend_list.append(friend)\n",
        "        return friend_list\n",
        "\n",
        "    def get_home_timeline_tweets(self, num_tweets):\n",
        "        home_timeline_tweets = []\n",
        "        for tweet in Cursor(self.twitter_client.home_timeline, id=self.twitter_user).items(num_tweets):\n",
        "            home_timeline_tweets.append(tweet)\n",
        "        return home_timeline_tweets"
      ],
      "execution_count": 4,
      "outputs": []
    },
    {
      "cell_type": "markdown",
      "metadata": {
        "id": "sUzbRdZrKSi2",
        "colab_type": "text"
      },
      "source": [
        "**Twitter Authenticator**"
      ]
    },
    {
      "cell_type": "code",
      "metadata": {
        "id": "-f_a_eXgKR0d",
        "colab_type": "code",
        "colab": {}
      },
      "source": [
        "class TwitterAuthenticator():\n",
        "\n",
        "    def authenticate_twitter_app(self):\n",
        "        auth = OAuthHandler(twitter_credentials.CONSUMER_KEY, twitter_credentials.CONSUMER_SECRET)\n",
        "        auth.set_access_token(twitter_credentials.ACCESS_TOKEN, twitter_credentials.ACCESS_TOKEN_SECRET)\n",
        "        return auth"
      ],
      "execution_count": 5,
      "outputs": []
    },
    {
      "cell_type": "markdown",
      "metadata": {
        "id": "f9m86kpjKZTO",
        "colab_type": "text"
      },
      "source": [
        "**Twitter Streamer**"
      ]
    },
    {
      "cell_type": "code",
      "metadata": {
        "id": "1_jbYJYrKYlK",
        "colab_type": "code",
        "colab": {}
      },
      "source": [
        "class TwitterStreamer():\n",
        "    \"\"\"\n",
        "    Class for streaming and processing live tweets.\n",
        "    \"\"\"\n",
        "    def __init__(self):\n",
        "        self.twitter_autenticator = TwitterAuthenticator()    \n",
        "\n",
        "    def stream_tweets(self, fetched_tweets_filename, hash_tag_list):\n",
        "        # This handles Twitter authetification and the connection to Twitter Streaming API\n",
        "        listener = TwitterListener(fetched_tweets_filename)\n",
        "        auth = self.twitter_autenticator.authenticate_twitter_app() \n",
        "        stream = Stream(auth, listener)\n",
        "\n",
        "        # This line filter Twitter Streams to capture data by the keywords: \n",
        "        stream.filter(track=hash_tag_list)"
      ],
      "execution_count": 6,
      "outputs": []
    },
    {
      "cell_type": "markdown",
      "metadata": {
        "id": "JYOMXpJmKgF7",
        "colab_type": "text"
      },
      "source": [
        "**Twitter Stream Listener**"
      ]
    },
    {
      "cell_type": "code",
      "metadata": {
        "id": "ZCBhqkfqKdws",
        "colab_type": "code",
        "colab": {}
      },
      "source": [
        "class TwitterListener(StreamListener):\n",
        "    \"\"\"\n",
        "    This is a basic listener that just prints received tweets to stdout.\n",
        "    \"\"\"\n",
        "    def __init__(self, fetched_tweets_filename):\n",
        "        self.fetched_tweets_filename = fetched_tweets_filename\n",
        "\n",
        "    def on_data(self, data):\n",
        "        try:\n",
        "            print(data)\n",
        "            with open(self.fetched_tweets_filename, 'a') as tf:\n",
        "                tf.write(data)\n",
        "            return True\n",
        "        except BaseException as e:\n",
        "            print(\"Error on_data %s\" % str(e))\n",
        "        return True\n",
        "          \n",
        "    def on_error(self, status):\n",
        "        if status == 420:\n",
        "            # Returning False on_data method in case rate limit occurs.\n",
        "            return False\n",
        "        print(status)"
      ],
      "execution_count": null,
      "outputs": []
    },
    {
      "cell_type": "markdown",
      "metadata": {
        "id": "ALEJDa1WKmHO",
        "colab_type": "text"
      },
      "source": [
        "**Twitter Analyzer**"
      ]
    },
    {
      "cell_type": "code",
      "metadata": {
        "id": "gRxEsjO1KqQe",
        "colab_type": "code",
        "colab": {}
      },
      "source": [
        "class TweetAnalyzer():\n",
        "    \"\"\"\n",
        "    Functionality for analyzing and categorizing content from tweets.\n",
        "    \"\"\"\n",
        "    def tweets_to_data_frame(self, tweets):\n",
        "        df = pd.DataFrame(data=[tweet.text for tweet in tweets], columns=['tweets'])\n",
        "\n",
        "        df['id'] = np.array([tweet.id for tweet in tweets])\n",
        "        df['len'] = np.array([len(tweet.text) for tweet in tweets])\n",
        "        df['date'] = np.array([tweet.created_at for tweet in tweets])\n",
        "        df['source'] = np.array([tweet.source for tweet in tweets])\n",
        "        df['likes'] = np.array([tweet.favorite_count for tweet in tweets])\n",
        "        df['retweets'] = np.array([tweet.retweet_count for tweet in tweets])\n",
        "\n",
        "        return df"
      ],
      "execution_count": 7,
      "outputs": []
    },
    {
      "cell_type": "markdown",
      "metadata": {
        "id": "yl_i7re2L5-R",
        "colab_type": "text"
      },
      "source": [
        "**Main Function**"
      ]
    },
    {
      "cell_type": "code",
      "metadata": {
        "id": "5NmIzAWiL5Ld",
        "colab_type": "code",
        "colab": {}
      },
      "source": [
        "if __name__ == '__main__':\n",
        "\n",
        "    twitter_client = TwitterClient()\n",
        "    tweet_analyzer = TweetAnalyzer()\n",
        "\n",
        "    api = twitter_client.get_twitter_client_api()\n",
        "    \n",
        "    tweets = api.user_timeline(screen_name=\"ICC\", count=20)\n",
        "\n",
        "    #print(dir(tweets[0]))\n",
        "    #print(tweets[0].retweet_count)\n",
        "\n",
        "    df = tweet_analyzer.tweets_to_data_frame(tweets)\n",
        "\n",
        "    # Get average length over all tweets:\n",
        "    print(np.mean(df['len']))\n",
        "\n",
        "    # Get the number of likes for the most liked tweet:\n",
        "    print(np.max(df['likes']))\n",
        "\n",
        "    # Get the number of retweets for the most retweeted tweet:\n",
        "    print(np.max(df['retweets']))\n",
        "    \n",
        "    #print(df.head(10))\n",
        "\n",
        "    # Time Series\n",
        "    #time_likes = pd.Series(data=df['len'].values, index=df['date'])\n",
        "    #time_likes.plot(figsize=(16, 4), color='r')\n",
        "    #plt.show()\n",
        "    \n",
        "    #time_favs = pd.Series(data=df['likes'].values, index=df['date'])\n",
        "    #time_favs.plot(figsize=(16, 4), color='r')\n",
        "    #plt.show()\n",
        "\n",
        "    #time_retweets = pd.Series(data=df['retweets'].values, index=df['date'])\n",
        "    #time_retweets.plot(figsize=(16, 4), color='r')\n",
        "    #plt.show()\n",
        "\n",
        "    # Layered Time Series:\n",
        "    #time_likes = pd.Series(data=df['likes'].values, index=df['date'])\n",
        "    #time_likes.plot(figsize=(16, 4), label=\"likes\", legend=True)\n",
        "\n",
        "    #time_retweets = pd.Series(data=df['retweets'].values, index=df['date'])\n",
        "    #time_retweets.plot(figsize=(16, 4), label=\"retweets\", legend=True)\n",
        "    #plt.show()"
      ],
      "execution_count": null,
      "outputs": []
    }
  ]
}